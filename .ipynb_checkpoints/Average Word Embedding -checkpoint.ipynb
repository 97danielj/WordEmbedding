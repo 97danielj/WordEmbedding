{
 "cells": [
  {
   "cell_type": "markdown",
   "id": "dc6c2ceb",
   "metadata": {},
   "source": [
    "# 1. 데이터 로드와 전처리"
   ]
  },
  {
   "cell_type": "code",
   "execution_count": 1,
   "id": "a0977b6b",
   "metadata": {},
   "outputs": [],
   "source": [
    "import numpy as np\n",
    "from tensorflow.keras.datasets import imdb\n",
    "from tensorflow.keras.preprocessing.sequence import pad_sequences"
   ]
  },
  {
   "cell_type": "code",
   "execution_count": 4,
   "id": "0713494a",
   "metadata": {},
   "outputs": [
    {
     "name": "stdout",
     "output_type": "stream",
     "text": [
      "Downloading data from https://storage.googleapis.com/tensorflow/tf-keras-datasets/imdb.npz\n",
      "17465344/17464789 [==============================] - 2s 0us/step\n",
      "17473536/17464789 [==============================] - 2s 0us/step\n",
      "훈련용 리뷰 개수 : 25000\n",
      "테스트용 리뷰 개수 : 25000\n"
     ]
    }
   ],
   "source": [
    "# 등장 빈도 순위\n",
    "vocab_size = 20000\n",
    "\n",
    "(X_train, y_train), (X_test, y_test) = imdb.load_data(num_words=vocab_size)\n",
    "print('훈련용 리뷰 개수 :',len(X_train))\n",
    "print('테스트용 리뷰 개수 :',len(X_test))"
   ]
  },
  {
   "cell_type": "code",
   "execution_count": 10,
   "id": "a4f3739f",
   "metadata": {},
   "outputs": [
    {
     "name": "stdout",
     "output_type": "stream",
     "text": [
      "훈련 데이터의 첫번째 샘플 : [1, 14, 22, 16, 43, 530, 973, 1622, 1385, 65, 458, 4468, 66, 3941, 4, 173, 36, 256, 5, 25, 100, 43, 838, 112, 50, 670, 2, 9, 35, 480, 284, 5, 150, 4, 172, 112, 167, 2, 336, 385, 39, 4, 172, 4536, 1111, 17, 546, 38, 13, 447, 4, 192, 50, 16, 6, 147, 2025, 19, 14, 22, 4, 1920, 4613, 469, 4, 22, 71, 87, 12, 16, 43, 530, 38, 76, 15, 13, 1247, 4, 22, 17, 515, 17, 12, 16, 626, 18, 19193, 5, 62, 386, 12, 8, 316, 8, 106, 5, 4, 2223, 5244, 16, 480, 66, 3785, 33, 4, 130, 12, 16, 38, 619, 5, 25, 124, 51, 36, 135, 48, 25, 1415, 33, 6, 22, 12, 215, 28, 77, 52, 5, 14, 407, 16, 82, 10311, 8, 4, 107, 117, 5952, 15, 256, 4, 2, 7, 3766, 5, 723, 36, 71, 43, 530, 476, 26, 400, 317, 46, 7, 4, 12118, 1029, 13, 104, 88, 4, 381, 15, 297, 98, 32, 2071, 56, 26, 141, 6, 194, 7486, 18, 4, 226, 22, 21, 134, 476, 26, 480, 5, 144, 30, 5535, 18, 51, 36, 28, 224, 92, 25, 104, 4, 226, 65, 16, 38, 1334, 88, 12, 16, 283, 5, 16, 4472, 113, 103, 32, 15, 16, 5345, 19, 178, 32]\n",
      "훈련 데이터의 첫번째 샘플의 레이블 : 1\n"
     ]
    }
   ],
   "source": [
    "# X_train은 이미 정수 인코딩이 잘 되어있다.\n",
    "# 1. 단어 집합을 만들고\n",
    "# 2. 각 단어를 임베딩 과정이 필요하다.\n",
    "print('훈련 데이터의 첫번째 샘플 :',X_train[0])\n",
    "print('훈련 데이터의 첫번째 샘플의 레이블 :', y_train[0])"
   ]
  },
  {
   "cell_type": "code",
   "execution_count": 12,
   "id": "fccb36a0",
   "metadata": {},
   "outputs": [
    {
     "name": "stdout",
     "output_type": "stream",
     "text": [
      "훈련용 리뷰의 평균 길이 : 238\n",
      "테스트용 리뷰의 평균 길이 : 230\n"
     ]
    }
   ],
   "source": [
    "# 각 리뷰의 평균 길이를 계산해봅시다ㅣ.\n",
    "print('훈련용 리뷰의 평균 길이 : {}'.format(np.mean(list(map(len, X_train)), dtype=int)))\n",
    "print('테스트용 리뷰의 평균 길이 : {}'.format(np.mean(list(map(len, X_test)), dtype=int)))\n"
   ]
  },
  {
   "cell_type": "code",
   "execution_count": 13,
   "id": "60c9f81a",
   "metadata": {},
   "outputs": [
    {
     "name": "stdout",
     "output_type": "stream",
     "text": [
      "X_train의 크기(shape) : (25000, 400)\n",
      "X_test의 크기(shape) : (25000, 400)\n"
     ]
    }
   ],
   "source": [
    "max_len = 400\n",
    "\n",
    "X_train = pad_sequences(X_train, maxlen=max_len)\n",
    "X_test = pad_sequences(X_test, maxlen=max_len)\n",
    "print('X_train의 크기(shape) :', X_train.shape)\n",
    "print('X_test의 크기(shape) :', X_test.shape)"
   ]
  },
  {
   "cell_type": "code",
   "execution_count": 16,
   "id": "0a1c3635",
   "metadata": {},
   "outputs": [
    {
     "name": "stdout",
     "output_type": "stream",
     "text": [
      "훈련 데이터의 첫번째 샘플 : [    0     0     0     0     0     0     0     0     0     0     0     0\n",
      "     0     0     0     0     0     0     0     0     0     0     0     0\n",
      "     0     0     0     0     0     0     0     0     0     0     0     0\n",
      "     0     0     0     0     0     0     0     0     0     0     0     0\n",
      "     0     0     0     0     0     0     0     0     0     0     0     0\n",
      "     0     0     0     0     0     0     0     0     0     0     0     0\n",
      "     0     0     0     0     0     0     0     0     0     0     0     0\n",
      "     0     0     0     0     0     0     0     0     0     0     0     0\n",
      "     0     0     0     0     0     0     0     0     0     0     0     0\n",
      "     0     0     0     0     0     0     0     0     0     0     0     0\n",
      "     0     0     0     0     0     0     0     0     0     0     0     0\n",
      "     0     0     0     0     0     0     0     0     0     0     0     0\n",
      "     0     0     0     0     0     0     0     0     0     0     0     0\n",
      "     0     0     0     0     0     0     0     0     0     0     0     0\n",
      "     0     0     0     0     0     0     0     0     0     0     0     0\n",
      "     0     0     1    14    22    16    43   530   973  1622  1385    65\n",
      "   458  4468    66  3941     4   173    36   256     5    25   100    43\n",
      "   838   112    50   670     2     9    35   480   284     5   150     4\n",
      "   172   112   167     2   336   385    39     4   172  4536  1111    17\n",
      "   546    38    13   447     4   192    50    16     6   147  2025    19\n",
      "    14    22     4  1920  4613   469     4    22    71    87    12    16\n",
      "    43   530    38    76    15    13  1247     4    22    17   515    17\n",
      "    12    16   626    18 19193     5    62   386    12     8   316     8\n",
      "   106     5     4  2223  5244    16   480    66  3785    33     4   130\n",
      "    12    16    38   619     5    25   124    51    36   135    48    25\n",
      "  1415    33     6    22    12   215    28    77    52     5    14   407\n",
      "    16    82 10311     8     4   107   117  5952    15   256     4     2\n",
      "     7  3766     5   723    36    71    43   530   476    26   400   317\n",
      "    46     7     4 12118  1029    13   104    88     4   381    15   297\n",
      "    98    32  2071    56    26   141     6   194  7486    18     4   226\n",
      "    22    21   134   476    26   480     5   144    30  5535    18    51\n",
      "    36    28   224    92    25   104     4   226    65    16    38  1334\n",
      "    88    12    16   283     5    16  4472   113   103    32    15    16\n",
      "  5345    19   178    32]\n",
      "훈련 데이터의 첫번째 샘플의 레이블 : 1\n"
     ]
    }
   ],
   "source": [
    "print('훈련 데이터의 첫번째 샘플 :',X_train[0])\n",
    "print('훈련 데이터의 첫번째 샘플의 레이블 :', y_train[0])"
   ]
  },
  {
   "cell_type": "markdown",
   "id": "507fd70a",
   "metadata": {},
   "source": [
    "# 2.모델 설계하기"
   ]
  },
  {
   "cell_type": "code",
   "execution_count": 17,
   "id": "3d654bdf",
   "metadata": {},
   "outputs": [
    {
     "name": "stdout",
     "output_type": "stream",
     "text": [
      "Epoch 1/10\n",
      "615/625 [============================>.] - ETA: 0s - loss: 0.6322 - acc: 0.7257\n",
      "Epoch 00001: val_acc improved from -inf to 0.76100, saving model to embedding_average_model.h5\n",
      "625/625 [==============================] - 4s 4ms/step - loss: 0.6303 - acc: 0.7266 - val_loss: 0.5314 - val_acc: 0.7610\n",
      "Epoch 2/10\n",
      "614/625 [============================>.] - ETA: 0s - loss: 0.4318 - acc: 0.8558\n",
      "Epoch 00002: val_acc improved from 0.76100 to 0.85620, saving model to embedding_average_model.h5\n",
      "625/625 [==============================] - 3s 4ms/step - loss: 0.4307 - acc: 0.8563 - val_loss: 0.3823 - val_acc: 0.8562\n",
      "Epoch 3/10\n",
      "624/625 [============================>.] - ETA: 0s - loss: 0.3190 - acc: 0.8912\n",
      "Epoch 00003: val_acc improved from 0.85620 to 0.88140, saving model to embedding_average_model.h5\n",
      "625/625 [==============================] - 3s 4ms/step - loss: 0.3190 - acc: 0.8911 - val_loss: 0.3231 - val_acc: 0.8814\n",
      "Epoch 4/10\n",
      "612/625 [============================>.] - ETA: 0s - loss: 0.2616 - acc: 0.9108\n",
      "Epoch 00004: val_acc improved from 0.88140 to 0.88540, saving model to embedding_average_model.h5\n",
      "625/625 [==============================] - 3s 4ms/step - loss: 0.2618 - acc: 0.9105 - val_loss: 0.2978 - val_acc: 0.8854\n",
      "Epoch 5/10\n",
      "616/625 [============================>.] - ETA: 0s - loss: 0.2243 - acc: 0.9245\n",
      "Epoch 00005: val_acc improved from 0.88540 to 0.88900, saving model to embedding_average_model.h5\n",
      "625/625 [==============================] - 3s 4ms/step - loss: 0.2246 - acc: 0.9243 - val_loss: 0.2846 - val_acc: 0.8890\n",
      "Epoch 6/10\n",
      "613/625 [============================>.] - ETA: 0s - loss: 0.1955 - acc: 0.9339\n",
      "Epoch 00006: val_acc improved from 0.88900 to 0.89000, saving model to embedding_average_model.h5\n",
      "625/625 [==============================] - 3s 4ms/step - loss: 0.1959 - acc: 0.9336 - val_loss: 0.2771 - val_acc: 0.8900\n",
      "Epoch 7/10\n",
      "619/625 [============================>.] - ETA: 0s - loss: 0.1715 - acc: 0.9436\n",
      "Epoch 00007: val_acc improved from 0.89000 to 0.89260, saving model to embedding_average_model.h5\n",
      "625/625 [==============================] - 3s 4ms/step - loss: 0.1719 - acc: 0.9434 - val_loss: 0.2715 - val_acc: 0.8926\n",
      "Epoch 8/10\n",
      "623/625 [============================>.] - ETA: 0s - loss: 0.1522 - acc: 0.9510\n",
      "Epoch 00008: val_acc improved from 0.89260 to 0.89440, saving model to embedding_average_model.h5\n",
      "625/625 [==============================] - 3s 4ms/step - loss: 0.1522 - acc: 0.9510 - val_loss: 0.2716 - val_acc: 0.8944\n",
      "Epoch 9/10\n",
      "617/625 [============================>.] - ETA: 0s - loss: 0.1356 - acc: 0.9556\n",
      "Epoch 00009: val_acc did not improve from 0.89440\n",
      "625/625 [==============================] - 3s 4ms/step - loss: 0.1351 - acc: 0.9558 - val_loss: 0.2766 - val_acc: 0.8936\n",
      "Epoch 10/10\n",
      "613/625 [============================>.] - ETA: 0s - loss: 0.1200 - acc: 0.9618\n",
      "Epoch 00010: val_acc improved from 0.89440 to 0.89520, saving model to embedding_average_model.h5\n",
      "625/625 [==============================] - 3s 4ms/step - loss: 0.1198 - acc: 0.9618 - val_loss: 0.2795 - val_acc: 0.8952\n"
     ]
    },
    {
     "data": {
      "text/plain": [
       "<keras.callbacks.History at 0x2bede8cdee0>"
      ]
     },
     "execution_count": 17,
     "metadata": {},
     "output_type": "execute_result"
    }
   ],
   "source": [
    "from tensorflow.keras.models import Sequential, load_model\n",
    "#GlobalAveragePooling1D는 문장을 구성하는 단어들의 임베딩 벡터의 평균을 구한다.\n",
    "from tensorflow.keras.layers import Dense, Embedding, GlobalAveragePooling1D\n",
    "from tensorflow.keras.callbacks import EarlyStopping, ModelCheckpoint\n",
    "\n",
    "embedding_dim = 64\n",
    "\n",
    "#모델의 층을 쌓아준다.\n",
    "# 입력데이터 : 2차원 넘파이 행렬, 차원 400\n",
    "model = Sequential()\n",
    "model.add(Embedding(vocab_size, embedding_dim)) # => 64차원 임베딩 벡터 변환(밀집 벡터)\n",
    "\n",
    "# 모든 단어 벡터의 평균을 구한다.\n",
    "model.add(GlobalAveragePooling1D())\n",
    "# 이진 분류를 위한 시그모이드를 활성화 함수로 이용하는 뉴런\n",
    "model.add(Dense(1, activation= 'sigmoid'))\n",
    "\n",
    "#과적합을 피하는 방법\n",
    "es = EarlyStopping(monitor='val_loss', mode='min', verbose=1, patience = 4)\n",
    "mc = ModelCheckpoint('embedding_average_model.h5', monitor='val_acc', mode='max',\n",
    "                    verbose=1, save_best_only=True)\n",
    "model.compile(loss = 'binary_crossentropy', optimizer = 'adam', metrics = ['acc'])\n",
    "model.fit(X_train, y_train, batch_size=32, epochs=10, callbacks=[es,mc], validation_split=0.2)\n"
   ]
  },
  {
   "cell_type": "code",
   "execution_count": 19,
   "id": "90995caa",
   "metadata": {},
   "outputs": [],
   "source": [
    "loaded_model = load_model('embedding_average_model.h5')"
   ]
  },
  {
   "cell_type": "code",
   "execution_count": 21,
   "id": "c4f2878f",
   "metadata": {},
   "outputs": [
    {
     "name": "stdout",
     "output_type": "stream",
     "text": [
      "782/782 [==============================] - 2s 2ms/step - loss: 0.2946 - acc: 0.8858\n",
      "테스트 정확도 : 0.8858\n"
     ]
    }
   ],
   "source": [
    "print(\"테스트 정확도 : %.4f\" % (loaded_model.evaluate(X_test, y_test))[1])"
   ]
  },
  {
   "cell_type": "code",
   "execution_count": null,
   "id": "197f33a1",
   "metadata": {},
   "outputs": [],
   "source": []
  }
 ],
 "metadata": {
  "kernelspec": {
   "display_name": "Python 3 (ipykernel)",
   "language": "python",
   "name": "python3"
  },
  "language_info": {
   "codemirror_mode": {
    "name": "ipython",
    "version": 3
   },
   "file_extension": ".py",
   "mimetype": "text/x-python",
   "name": "python",
   "nbconvert_exporter": "python",
   "pygments_lexer": "ipython3",
   "version": "3.9.13"
  }
 },
 "nbformat": 4,
 "nbformat_minor": 5
}
