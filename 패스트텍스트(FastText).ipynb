{
 "cells": [
  {
   "cell_type": "markdown",
   "id": "b9d03b3d",
   "metadata": {},
   "source": [
    "FastText에서는 각 단어는 글자 단위 n-gram의 구성으로 취급합니다. n을 몇으로 결정하는지에 따라서 단어들이 얼마나 분리되는지 결정됩니다. 예를 들어서 n을 3으로 잡은 트라이그램(tri-gram)의 경우, apple은 app, ppl, ple로 분리하고 이들을 벡터로 만듭니다. 더 정확히는 시작과 끝을 의미하는 <, >를 도입하여 아래의 5개 내부 단어(subword) 토큰을 벡터로 만듭니다."
   ]
  },
  {
   "cell_type": "raw",
   "id": "d555dc90",
   "metadata": {},
   "source": [
    "# n = 3인 경우\n",
    "<ap, app, ppl, ple, le>\n",
    "벡터화하는데, "
   ]
  },
  {
   "cell_type": "raw",
   "id": "46bd0d66",
   "metadata": {},
   "source": [
    "기존 단어에 <, 와 >를 붙인 토큰입니다.\n",
    "<apple>"
   ]
  },
  {
   "cell_type": "raw",
   "id": "82813e9b",
   "metadata": {},
   "source": [
    "실제 사용에서는 n의 최소값 최대값을 지정\n",
    "# n = 3 ~ 6인 경우\n",
    "<ap, app, ppl, ppl, le>, <app, appl, pple, ple>, <appl, pple>, ..., <apple>"
   ]
  },
  {
   "cell_type": "raw",
   "id": "54c138e4",
   "metadata": {},
   "source": [
    "여기서 내부 단어들을 벡터화한다는 의미는 저 단어들에 대해서 Word2Vec을 수행한다는 의미입니다. 위와 같이 내부 단어들의 벡터값을 얻었다면, 단어 apple의 벡터값은 저 위 벡터값들의 총 합으로 구성합니다."
   ]
  },
  {
   "cell_type": "raw",
   "id": "5457ea39",
   "metadata": {},
   "source": [
    "apple = <ap + app + ppl + ppl + le> + <app + appl + pple + ple> + <appl + pple> + , ..., +<apple>"
   ]
  },
  {
   "cell_type": "raw",
   "id": "ff8ff613",
   "metadata": {},
   "source": [
    "FastText의 인공 신경망을 학습한 후에는 데이터 셋의 모든 단어의 각 n-gram에 대해서 워드 임베딩이 됩니다. 이렇게 되면 장점은 데이터 셋만 충분한다면 위와 같은 내부 단어(Subword)를 통해 모르는 단어(Out Of Vocabulary, OOV)에 대해서도 다른 단어와의 유사도를 계산할 수 있다는 점입니다.\n",
    "\n",
    "가령, FastText에서 birthplace(출생지)란 단어를 학습하지 않은 상태라고 해봅시다. 하지만 다른 단어에서 birth와 place라는 내부 단어가 있었다면, FastText는 birthplace의 벡터를 얻을 수 있습니다. 이는 모르는 단어에 제대로 대처할 수 없는 Word2Vec, GloVe와는 다른 점입니다.ㅡ"
   ]
  },
  {
   "cell_type": "markdown",
   "id": "6cb6cda9",
   "metadata": {},
   "source": [
    "fasttext 장점 : \n",
    "모르는 단어에 대한 단어에 대한 대응(내부 단어로 쪼개기 때문)\n",
    "단어 집합 내 빈도 수가 적었던 단어에 대한 대응(그 단어의 n-gram이 다른 단어의 n-gram과 겹치는 경우) => 노이즈가 많은 코퍼스에서 강점을 가진다\n",
    "\n"
   ]
  }
 ],
 "metadata": {
  "kernelspec": {
   "display_name": "Python 3 (ipykernel)",
   "language": "python",
   "name": "python3"
  },
  "language_info": {
   "codemirror_mode": {
    "name": "ipython",
    "version": 3
   },
   "file_extension": ".py",
   "mimetype": "text/x-python",
   "name": "python",
   "nbconvert_exporter": "python",
   "pygments_lexer": "ipython3",
   "version": "3.9.13"
  }
 },
 "nbformat": 4,
 "nbformat_minor": 5
}
