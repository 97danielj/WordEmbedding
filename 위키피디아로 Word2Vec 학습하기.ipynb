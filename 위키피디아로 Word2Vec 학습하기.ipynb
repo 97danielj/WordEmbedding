{
 "cells": [
  {
   "cell_type": "markdown",
   "id": "e7eedf43",
   "metadata": {},
   "source": [
    "#  practice) 위키피디아 word2vec학습하기"
   ]
  },
  {
   "cell_type": "code",
   "execution_count": 19,
   "id": "db4fda46",
   "metadata": {},
   "outputs": [
    {
     "name": "stdout",
     "output_type": "stream",
     "text": [
      "Defaulting to user installation because normal site-packages is not writeable\n",
      "Collecting wikiextractor==3.0.4\n",
      "  Downloading wikiextractor-3.0.4-py3-none-any.whl (46 kB)\n",
      "Installing collected packages: wikiextractor\n",
      "  Attempting uninstall: wikiextractor\n",
      "    Found existing installation: wikiextractor 3.0.6\n",
      "    Uninstalling wikiextractor-3.0.6:\n",
      "      Successfully uninstalled wikiextractor-3.0.6\n",
      "Successfully installed wikiextractor-3.0.4\n"
     ]
    },
    {
     "name": "stderr",
     "output_type": "stream",
     "text": [
      "  WARNING: The scripts extractPage.exe and wikiextractor.exe are installed in 'C:\\Users\\DanielJeong\\AppData\\Roaming\\Python\\Python39\\Scripts' which is not on PATH.\n",
      "  Consider adding this directory to PATH or, if you prefer to suppress this warning, use --no-warn-script-location.\n"
     ]
    }
   ],
   "source": [
    "# 위키피디아로부터 데이터를 파싱하기 위한 파이썬 패키지인 wikiextractor를 설치합니다.\n",
    "#!pip install wikiextractor==3.0.4"
   ]
  },
  {
   "cell_type": "markdown",
   "id": "4996d549",
   "metadata": {},
   "source": [
    "## 1. 위키피디아 덤프(데이터) 다운로드"
   ]
  },
  {
   "cell_type": "code",
   "execution_count": 1,
   "id": "55146b1c",
   "metadata": {},
   "outputs": [
    {
     "name": "stdout",
     "output_type": "stream",
     "text": [
      "100% [......................................................................] 859489873 / 859489873"
     ]
    },
    {
     "data": {
      "text/plain": [
       "'kowiki-latest-pages-articles.xml.bz2'"
      ]
     },
     "execution_count": 1,
     "metadata": {},
     "output_type": "execute_result"
    }
   ],
   "source": [
    "import wget\n",
    "url = \"https://dumps.wikimedia.org/kowiki/latest/kowiki-latest-pages-articles.xml.bz2\"\n",
    "wget.download(url)"
   ]
  },
  {
   "cell_type": "markdown",
   "id": "50cb871d",
   "metadata": {},
   "source": [
    "##  2. 위키피디아 덤프를 파싱합니다."
   ]
  },
  {
   "cell_type": "code",
   "execution_count": 20,
   "id": "4c9c9915",
   "metadata": {},
   "outputs": [
    {
     "name": "stderr",
     "output_type": "stream",
     "text": [
      "INFO: Preprocessing 'kowiki-latest-pages-articles.xml.bz2' to collect template definitions: this may take some time.\n",
      "INFO: Preprocessed 100000 pages\n",
      "INFO: Preprocessed 200000 pages\n",
      "INFO: Preprocessed 300000 pages\n",
      "INFO: Preprocessed 400000 pages\n",
      "INFO: Preprocessed 500000 pages\n",
      "INFO: Preprocessed 600000 pages\n",
      "INFO: Preprocessed 700000 pages\n",
      "INFO: Preprocessed 800000 pages\n",
      "INFO: Preprocessed 900000 pages\n",
      "INFO: Preprocessed 1000000 pages\n",
      "INFO: Preprocessed 1100000 pages\n",
      "INFO: Preprocessed 1200000 pages\n",
      "INFO: Preprocessed 1300000 pages\n",
      "INFO: Preprocessed 1400000 pages\n",
      "INFO: Preprocessed 1500000 pages\n",
      "INFO: Preprocessed 1600000 pages\n",
      "INFO: Preprocessed 1700000 pages\n",
      "INFO: Loaded 60532 templates in 153.1s\n",
      "INFO: Starting page extraction from kowiki-latest-pages-articles.xml.bz2.\n",
      "Traceback (most recent call last):\n",
      "  File \"C:\\ProgramData\\Anaconda3\\lib\\runpy.py\", line 197, in _run_module_as_main\n",
      "    return _run_code(code, main_globals, None,\n",
      "  File \"C:\\ProgramData\\Anaconda3\\lib\\runpy.py\", line 87, in _run_code\n",
      "    exec(code, run_globals)\n",
      "  File \"C:\\Users\\DanielJeong\\AppData\\Roaming\\Python\\Python39\\site-packages\\wikiextractor\\WikiExtractor.py\", line 621, in <module>\n",
      "    main()\n",
      "  File \"C:\\Users\\DanielJeong\\AppData\\Roaming\\Python\\Python39\\site-packages\\wikiextractor\\WikiExtractor.py\", line 616, in main\n",
      "    process_dump(input_file, args.templates, output_path, file_size,\n",
      "  File \"C:\\Users\\DanielJeong\\AppData\\Roaming\\Python\\Python39\\site-packages\\wikiextractor\\WikiExtractor.py\", line 357, in process_dump\n",
      "    reduce.start()\n",
      "  File \"C:\\ProgramData\\Anaconda3\\lib\\multiprocessing\\process.py\", line 121, in start\n",
      "    self._popen = self._Popen(self)\n",
      "  File \"C:\\ProgramData\\Anaconda3\\lib\\multiprocessing\\context.py\", line 224, in _Popen\n",
      "    return _default_context.get_context().Process._Popen(process_obj)\n",
      "  File \"C:\\ProgramData\\Anaconda3\\lib\\multiprocessing\\context.py\", line 327, in _Popen\n",
      "    return Popen(process_obj)\n",
      "  File \"C:\\ProgramData\\Anaconda3\\lib\\multiprocessing\\popen_spawn_win32.py\", line 93, in __init__\n",
      "    reduction.dump(process_obj, to_child)\n",
      "  File \"C:\\ProgramData\\Anaconda3\\lib\\multiprocessing\\reduction.py\", line 60, in dump\n",
      "    ForkingPickler(file, protocol).dump(obj)\n",
      "TypeError: cannot pickle '_io.TextIOWrapper' object\n",
      "Traceback (most recent call last):\n",
      "  File \"<string>\", line 1, in <module>\n",
      "  File \"C:\\ProgramData\\Anaconda3\\lib\\multiprocessing\\spawn.py\", line 107, in spawn_main\n",
      "    new_handle = reduction.duplicate(pipe_handle,\n",
      "  File \"C:\\ProgramData\\Anaconda3\\lib\\multiprocessing\\reduction.py\", line 79, in duplicate\n",
      "    return _winapi.DuplicateHandle(\n",
      "PermissionError: [WinError 5] 액세스가 거부되었습니다\n"
     ]
    }
   ],
   "source": [
    "!python -m wikiextractor.WikiExtractor kowiki-latest-pages-articles.xml.bz2"
   ]
  },
  {
   "cell_type": "code",
   "execution_count": 1,
   "id": "b8c92030",
   "metadata": {},
   "outputs": [
    {
     "name": "stdout",
     "output_type": "stream",
     "text": [
      " C 드라이브의 볼륨에는 이름이 없습니다.\n",
      " 볼륨 일련 번호: D6FD-5FAB\n",
      "\n",
      " C:\\Users\\DanielJeong\\PycharmProjects\\WordEmbedding 디렉터리\n",
      "\n",
      "2022-09-19  오후 01:32    <DIR>          .\n",
      "2022-09-19  오후 01:32    <DIR>          ..\n",
      "2022-09-19  오후 01:17    <DIR>          .idea\n",
      "2022-09-16  오후 02:12    <DIR>          .ipynb_checkpoints\n",
      "2022-09-16  오후 03:49           105,982 04)Skip-Gram with Negative Sampling.ipynb\n",
      "2022-09-16  오후 04:55       859,489,873 kowiki-latest-pages-articles.xml.bz2\n",
      "2022-09-19  오후 01:18    <DIR>          Mecab-ko-for-Google-Colab\n",
      "2022-09-19  오후 01:17       962,991,981 output_file.txt\n",
      "2022-09-13  오후 04:52        19,515,078 ratings.txt\n",
      "2022-09-14  오전 11:30        74,533,638 ted_en-20160408.xml\n",
      "2022-09-19  오후 01:21    <DIR>          text\n",
      "2022-09-16  오후 02:12             1,438 Untitled.ipynb\n",
      "2022-09-16  오후 03:30        78,409,564 vectors.txt\n",
      "2022-09-14  오후 12:21            49,519 영어,한국어_Word2Vec_실습.ipynb\n",
      "2022-09-19  오후 01:32             9,133 위키피디아로 Word2Vec 학습하기.ipynb\n",
      "               9개 파일       1,995,106,206 바이트\n",
      "               6개 디렉터리  375,238,914,048 바이트 남음\n"
     ]
    }
   ],
   "source": [
    "%ls"
   ]
  },
  {
   "cell_type": "code",
   "execution_count": 3,
   "id": "6ca60cf5",
   "metadata": {},
   "outputs": [],
   "source": [
    "import os\n",
    "import re"
   ]
  },
  {
   "cell_type": "code",
   "execution_count": 4,
   "id": "219e74a1",
   "metadata": {},
   "outputs": [
    {
     "data": {
      "text/plain": [
       "['AA', 'AB', 'AC', 'AD', 'AE', 'AF', 'AG', 'AH', 'AI', 'AJ']"
      ]
     },
     "execution_count": 4,
     "metadata": {},
     "output_type": "execute_result"
    }
   ],
   "source": [
    "os.listdir('text')"
   ]
  },
  {
   "cell_type": "code",
   "execution_count": 16,
   "id": "5b94291a",
   "metadata": {},
   "outputs": [
    {
     "name": "stdout",
     "output_type": "stream",
     "text": [
      "C:\\Users\\DanielJeong\\PycharmProjects\\WordEmbedding\n"
     ]
    }
   ],
   "source": [
    "cd WordEmbedding/"
   ]
  },
  {
   "cell_type": "code",
   "execution_count": 5,
   "id": "10a3aa85",
   "metadata": {},
   "outputs": [
    {
     "name": "stdout",
     "output_type": "stream",
     "text": [
      " C 드라이브의 볼륨에는 이름이 없습니다.\n",
      " 볼륨 일련 번호: D6FD-5FAB\n",
      "\n",
      " C:\\Users\\DanielJeong\\PycharmProjects\\WordEmbedding\\text 디렉터리\n",
      "\n",
      "2022-09-19  오후 01:21    <DIR>          .\n",
      "2022-09-19  오후 01:21    <DIR>          ..\n",
      "2022-09-18  오후 06:14    <DIR>          AA\n",
      "2022-09-18  오후 06:23    <DIR>          AB\n",
      "2022-09-18  오후 06:33    <DIR>          AC\n",
      "2022-09-18  오후 06:45    <DIR>          AD\n",
      "2022-09-18  오후 07:01    <DIR>          AE\n",
      "2022-09-18  오후 07:18    <DIR>          AF\n",
      "2022-09-18  오후 07:36    <DIR>          AG\n",
      "2022-09-18  오후 07:59    <DIR>          AH\n",
      "2022-09-18  오후 08:19    <DIR>          AI\n",
      "2022-09-18  오후 08:22    <DIR>          AJ\n",
      "               0개 파일                   0 바이트\n",
      "              12개 디렉터리  375,238,909,952 바이트 남음\n"
     ]
    }
   ],
   "source": [
    "%ls text"
   ]
  },
  {
   "cell_type": "markdown",
   "id": "d59463a7",
   "metadata": {},
   "source": [
    "## 3. 하나의 파일로 합치기"
   ]
  },
  {
   "cell_type": "code",
   "execution_count": 6,
   "id": "26d7d409",
   "metadata": {},
   "outputs": [],
   "source": [
    "def list_wiki(dirname):\n",
    "    filepaths = []\n",
    "    filenames = os.listdir(dirname)\n",
    "    for filename in filenames:\n",
    "        filepath = os.path.join(dirname, filename)\n",
    "\n",
    "        if os.path.isdir(filepath):\n",
    "            # 재귀 함수\n",
    "            filepaths.extend(list_wiki(filepath))\n",
    "        else:\n",
    "            find = re.findall(r\"wiki_[0-9][0-9]\", filepath)\n",
    "            if 0 < len(find):\n",
    "                filepaths.append(filepath)\n",
    "    return sorted(filepaths)"
   ]
  },
  {
   "cell_type": "code",
   "execution_count": 7,
   "id": "a9df2ff2",
   "metadata": {},
   "outputs": [],
   "source": [
    "filepaths = list_wiki('text')"
   ]
  },
  {
   "cell_type": "code",
   "execution_count": 8,
   "id": "1ae7d7f2",
   "metadata": {},
   "outputs": [
    {
     "data": {
      "text/plain": [
       "918"
      ]
     },
     "execution_count": 8,
     "metadata": {},
     "output_type": "execute_result"
    }
   ],
   "source": [
    "len(filepaths)"
   ]
  },
  {
   "cell_type": "code",
   "execution_count": 16,
   "id": "5195c5c2",
   "metadata": {},
   "outputs": [],
   "source": [
    "with open(\"output_file.txt\", \"w\",encoding='utf-8') as outfile:\n",
    "    for filename in filepaths:\n",
    "        with open(filename, 'r',encoding='utf-8') as infile:\n",
    "            contents = infile.read()\n",
    "            outfile.write(contents)"
   ]
  },
  {
   "cell_type": "code",
   "execution_count": 17,
   "id": "70f1b355",
   "metadata": {},
   "outputs": [
    {
     "name": "stdout",
     "output_type": "stream",
     "text": [
      "1번째 줄 :<doc id=\"5\" url=\"https://ko.wikipedia.org/wiki?curid=5\" title=\"지미 카터\">\n",
      "\n",
      "2번째 줄 :지미 카터\n",
      "\n",
      "3번째 줄 :제임스 얼 카터 주니어(, 1924년 10월 1일 ~ )는 민주당 출신 미국 39대 대통령 (1977년 ~ 1981년)이다.\n",
      "\n",
      "4번째 줄 :생애.\n",
      "\n",
      "5번째 줄 :어린 시절.\n",
      "\n",
      "6번째 줄 :지미 카터는 조지아주 섬터 카운티 플레인스 마을에서 태어났다.\n",
      "\n",
      "7번째 줄 :조지아 공과대학교를 졸업하였다. 그 후 해군에 들어가 전함·원자력·잠수함의 승무원으로 일하였다. 1953년 미국 해군 대위로 예편하였고 이후 땅콩·면화 등을 가꿔 많은 돈을 벌었다. 그의 별명이 \"땅콩 농부\" (Peanut Farmer)로 알려졌다.\n",
      "\n",
      "8번째 줄 :정계 입문.\n",
      "\n",
      "9번째 줄 :1962년 조지아주 상원 의원 선거에서 낙선하나 그 선거가 부정선거 였음을 입증하게 되어 당선되고, 1966년 조지아 주지사 선거에 낙선하지만, 1970년 조지아 주지사를 역임했다. 대통령이 되기 전 조지아주 상원의원을 두번 연임했으며, 1971년부터 1975년까지 조지아 지사로 근무했다. 조지아 주지사로 지내면서, 미국에 사는 흑인 등용법을 내세웠다.\n",
      "\n",
      "10번째 줄 :대통령 재임.\n",
      "\n"
     ]
    }
   ],
   "source": [
    "# 10줄만 출력\n",
    "f = open('output_file.txt', encoding=\"utf8\")\n",
    "\n",
    "i = 0\n",
    "while True:\n",
    "    line = f.readline()\n",
    "    if line != '\\n':\n",
    "        i = i+1\n",
    "        print(\"%d번째 줄 :\"%i + line)\n",
    "    if i==10:\n",
    "        break \n",
    "f.close()"
   ]
  },
  {
   "cell_type": "markdown",
   "id": "4cae6e99",
   "metadata": {},
   "source": [
    "# 4. 형태소 분석기"
   ]
  },
  {
   "cell_type": "code",
   "execution_count": 18,
   "id": "379170ed",
   "metadata": {},
   "outputs": [],
   "source": [
    "from tqdm import tqdm\n",
    "from konlpy.tag import Mecab "
   ]
  },
  {
   "cell_type": "code",
   "execution_count": 19,
   "id": "b34fdbfa",
   "metadata": {},
   "outputs": [],
   "source": [
    "mecab = Mecab('C:\\mecab\\mecab-ko-dic')"
   ]
  },
  {
   "cell_type": "code",
   "execution_count": 20,
   "id": "8d6dad23",
   "metadata": {},
   "outputs": [
    {
     "name": "stdout",
     "output_type": "stream",
     "text": [
      "10438436\n"
     ]
    }
   ],
   "source": [
    "f = open('output_file.txt', encoding=\"utf8\")\n",
    "lines = f.read().splitlines()\n",
    "print(len(lines))"
   ]
  },
  {
   "cell_type": "code",
   "execution_count": 21,
   "id": "c68e3078",
   "metadata": {},
   "outputs": [
    {
     "data": {
      "text/plain": [
       "['<doc id=\"5\" url=\"https://ko.wikipedia.org/wiki?curid=5\" title=\"지미 카터\">',\n",
       " '지미 카터',\n",
       " '',\n",
       " '제임스 얼 카터 주니어(, 1924년 10월 1일 ~ )는 민주당 출신 미국 39대 대통령 (1977년 ~ 1981년)이다.',\n",
       " '생애.',\n",
       " '어린 시절.',\n",
       " '지미 카터는 조지아주 섬터 카운티 플레인스 마을에서 태어났다.',\n",
       " '조지아 공과대학교를 졸업하였다. 그 후 해군에 들어가 전함·원자력·잠수함의 승무원으로 일하였다. 1953년 미국 해군 대위로 예편하였고 이후 땅콩·면화 등을 가꿔 많은 돈을 벌었다. 그의 별명이 \"땅콩 농부\" (Peanut Farmer)로 알려졌다.',\n",
       " '정계 입문.',\n",
       " '1962년 조지아주 상원 의원 선거에서 낙선하나 그 선거가 부정선거 였음을 입증하게 되어 당선되고, 1966년 조지아 주지사 선거에 낙선하지만, 1970년 조지아 주지사를 역임했다. 대통령이 되기 전 조지아주 상원의원을 두번 연임했으며, 1971년부터 1975년까지 조지아 지사로 근무했다. 조지아 주지사로 지내면서, 미국에 사는 흑인 등용법을 내세웠다.']"
      ]
     },
     "execution_count": 21,
     "metadata": {},
     "output_type": "execute_result"
    }
   ],
   "source": [
    "lines[:10]"
   ]
  },
  {
   "cell_type": "code",
   "execution_count": 23,
   "id": "893b32e9",
   "metadata": {
    "scrolled": true
   },
   "outputs": [
    {
     "name": "stderr",
     "output_type": "stream",
     "text": [
      "100%|█████████████████████████████████████████████████████████████████████████████████████████████████████████████████████████████████████████████████████████████████████████████████| 10438436/10438436 [10:00<00:00, 17370.04it/s]\n"
     ]
    }
   ],
   "source": [
    "result = []\n",
    "\n",
    "for line in tqdm(lines):\n",
    "  # 빈 문자열이 아닌 경우에만 수행\n",
    "  if line:\n",
    "    result.append(mecab.morphs(line))"
   ]
  },
  {
   "cell_type": "markdown",
   "id": "93d25a8f",
   "metadata": {},
   "source": [
    "## 5. Word2Vec 학습"
   ]
  },
  {
   "cell_type": "code",
   "execution_count": 26,
   "id": "0031fb2e",
   "metadata": {},
   "outputs": [],
   "source": [
    "from gensim.models import Word2Vec\n",
    "model = Word2Vec(result, vector_size =100, window =5, min_count=5, workers=4, sg=0)"
   ]
  },
  {
   "cell_type": "code",
   "execution_count": 27,
   "id": "41360831",
   "metadata": {},
   "outputs": [
    {
     "name": "stdout",
     "output_type": "stream",
     "text": [
      "[('한국', 0.7278291583061218), ('미국', 0.6684027910232544), ('일본', 0.6479599475860596), ('홍콩', 0.5913598537445068), ('태국', 0.5526153445243835), ('중화민국', 0.5524935722351074), ('서울', 0.5497624278068542), ('오스트레일리아', 0.5458842515945435), ('중국', 0.544219434261322), ('부산', 0.5326055884361267)]\n"
     ]
    }
   ],
   "source": [
    "model_result1 = model.wv.most_similar(\"대한민국\")\n",
    "print(model_result1)"
   ]
  },
  {
   "cell_type": "code",
   "execution_count": 28,
   "id": "6ad700d5",
   "metadata": {},
   "outputs": [
    {
     "name": "stdout",
     "output_type": "stream",
     "text": [
      "[('스파이더맨', 0.7878613471984863), ('《》,', 0.761936366558075), ('스타트렉', 0.7598509192466736), ('아이언맨', 0.7529652714729309), ('인크레더블', 0.7509562969207764), ('트랜스포머', 0.7498756051063538), ('엑스맨', 0.7441549301147461), ('헐크', 0.7374081611633301), ('어벤저스', 0.7327329516410828), ('데어데블', 0.7204691767692566)]\n"
     ]
    }
   ],
   "source": [
    "model_result2 = model.wv.most_similar(\"어벤져스\")\n",
    "print(model_result2)"
   ]
  },
  {
   "cell_type": "code",
   "execution_count": 29,
   "id": "1444c6aa",
   "metadata": {},
   "outputs": [
    {
     "name": "stdout",
     "output_type": "stream",
     "text": [
      "[('연료전지', 0.7927111387252808), ('집적회로', 0.7904428243637085), ('트랜지스터', 0.7571129202842712), ('전자', 0.7567811608314514), ('실리콘', 0.7497543692588806), ('PCB', 0.7360032796859741), ('웨이퍼', 0.7347100377082825), ('전기차', 0.7158481478691101), ('부품', 0.7071155309677124), ('가전제품', 0.6875191330909729)]\n"
     ]
    }
   ],
   "source": [
    "model_result3 = model.wv.most_similar(\"반도체\")\n",
    "print(model_result3)"
   ]
  },
  {
   "cell_type": "markdown",
   "id": "93e0f073",
   "metadata": {},
   "source": [
    "## 6.모델 저장"
   ]
  },
  {
   "cell_type": "code",
   "execution_count": 30,
   "id": "88b5140d",
   "metadata": {},
   "outputs": [],
   "source": [
    "model.wv.save_word2vec_format('wiki_kor_w2v')"
   ]
  },
  {
   "cell_type": "code",
   "execution_count": null,
   "id": "3b32823d",
   "metadata": {},
   "outputs": [],
   "source": [
    "loaded_model = KeyedVectors.load_word2vec_format('wiki_kor_w2v') # 모델 로드"
   ]
  }
 ],
 "metadata": {
  "kernelspec": {
   "display_name": "Python 3 (ipykernel)",
   "language": "python",
   "name": "python3"
  },
  "language_info": {
   "codemirror_mode": {
    "name": "ipython",
    "version": 3
   },
   "file_extension": ".py",
   "mimetype": "text/x-python",
   "name": "python",
   "nbconvert_exporter": "python",
   "pygments_lexer": "ipython3",
   "version": "3.9.12"
  }
 },
 "nbformat": 4,
 "nbformat_minor": 5
}
